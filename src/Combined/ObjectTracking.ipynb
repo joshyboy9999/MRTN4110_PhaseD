{
 "cells": [
  {
   "cell_type": "code",
   "execution_count": null,
   "metadata": {},
   "outputs": [],
   "source": [
    "import cv2\n",
    "import sys\n",
    "\n",
    "track = cv2.TrackerCSRT_create()\n",
    "vid = cv2.VideoCapture(\"Robot2.mp4\")\n",
    "\n",
    "if not vid.isOpened():\n",
    "    sys.exit()\n",
    "    \n",
    "check, frame = vid.read()\n",
    "if not check:\n",
    "    sys.exit()\n",
    "    \n",
    "bound = cv2.selectROI(frame, False)\n",
    "check = track.init(frame, bound)\n",
    "\n",
    "while True:\n",
    "    check, frame = vid.read()\n",
    "    if not check:\n",
    "        break\n",
    "    \n",
    "    check, bound = track.update(frame)\n",
    "\n",
    "    if check:\n",
    "        p1 = (int(bound[0]), int(bound[1]))\n",
    "        p2 = (int(bound[0] + bound[2]), int(bound[1] + bound[3]))\n",
    "        cv2.rectangle(frame, p1, p2, (255,0,0), 2, 1)\n",
    "    else :\n",
    "        cv2.putText(frame, \"Tracking failure detected\", (100,80), cv2.FONT_HERSHEY_SIMPLEX, 0.75,(0,0,255),2)\n",
    "\n",
    "    # Display result\n",
    "    cv2.imshow(\"Tracking\", frame)\n",
    "\n",
    "    k = cv2.waitKey(10) & 0xff\n",
    "    if k == 27 : break\n",
    "\n",
    "cv2.destroyAllWindows()"
   ]
  },
  {
   "cell_type": "code",
   "execution_count": null,
   "metadata": {},
   "outputs": [],
   "source": []
  }
 ],
 "metadata": {
  "kernelspec": {
   "display_name": "Python 3",
   "language": "python",
   "name": "python3"
  },
  "language_info": {
   "codemirror_mode": {
    "name": "ipython",
    "version": 3
   },
   "file_extension": ".py",
   "mimetype": "text/x-python",
   "name": "python",
   "nbconvert_exporter": "python",
   "pygments_lexer": "ipython3",
   "version": "3.7.6"
  }
 },
 "nbformat": 4,
 "nbformat_minor": 4
}
